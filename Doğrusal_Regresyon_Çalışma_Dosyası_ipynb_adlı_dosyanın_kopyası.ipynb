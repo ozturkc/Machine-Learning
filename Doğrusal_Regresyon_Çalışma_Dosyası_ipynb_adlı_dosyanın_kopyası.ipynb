{
  "nbformat": 4,
  "nbformat_minor": 0,
  "metadata": {
    "kernelspec": {
      "display_name": "Python 3",
      "language": "python",
      "name": "python3"
    },
    "language_info": {
      "codemirror_mode": {
        "name": "ipython",
        "version": 3
      },
      "file_extension": ".py",
      "mimetype": "text/x-python",
      "name": "python",
      "nbconvert_exporter": "python",
      "pygments_lexer": "ipython3",
      "version": "3.6.8"
    },
    "colab": {
      "name": "Doğrusal Regresyon Çalışma Dosyası.ipynb adlı dosyanın kopyası",
      "provenance": [],
      "collapsed_sections": [],
      "toc_visible": true,
      "include_colab_link": true
    },
    "accelerator": "GPU"
  },
  "cells": [
    {
      "cell_type": "markdown",
      "metadata": {
        "id": "view-in-github",
        "colab_type": "text"
      },
      "source": [
        "<a href=\"https://colab.research.google.com/github/ozturkc/Machine-Learning/blob/master/Do%C4%9Frusal_Regresyon_%C3%87al%C4%B1%C5%9Fma_Dosyas%C4%B1_ipynb_adl%C4%B1_dosyan%C4%B1n_kopyas%C4%B1.ipynb\" target=\"_parent\"><img src=\"https://colab.research.google.com/assets/colab-badge.svg\" alt=\"Open In Colab\"/></a>"
      ]
    },
    {
      "cell_type": "markdown",
      "metadata": {
        "id": "_DjY5hOmAdWT",
        "colab_type": "text"
      },
      "source": [
        "# <h1 align=\"center\"> Numpy Kütüphanesi Kullanarak Doğrusal Regresyon Uygulaması </h1>\n",
        "\n",
        "---\n",
        "<h3 align=center>(Linear Regression)</h3>\n",
        "\n",
        "---\n",
        "\n",
        "Makine öğrenmesine giriş seviyesindeki ilk adımınız **doğrusal regresyon** olabilir. **Regresyon** Türkçeye **bağlanım** olarak çevrilmiştir. Ancak genellikle regresyon kullanıldığı için bu çalışmada bu şekilde kullanmaya devam edeceğim. Matematiksel olarak kolay anlaşılır ve istatistiksel temelli bu model ile günlük hayatta bir çok konuda tahminleme yapma imkannı bulursunuz.\n",
        "\n",
        "---\n",
        "\n",
        "***Eğilim ve yönelimler, satış tahminleme, sigorta risk analizleri sık kullanıldıkları alanlardır.***\n",
        "\n",
        "---\n",
        "\n",
        "Elinizdeki en basitinden iki değişkenli verinin bir değişkeninin değerini diğerine bağlı olarak tahmin edebilirsiniz. Tahmin etmek için kullandığınız değişken **bağımsız**, tahmin etmek istediğiniz değişken ise **bağımlı** değişkendir. Bu tahminlemenin mümkün olduğu koşullarda doğrusal regresyon kullanabilirsiniz. \n",
        "\n",
        "* Ancak unutmamalı ki bağımlı ve bağımsız değişkenler nicel olmalıdır. Bağılmı değişkenin dağılımı her bağımsız değişken değeri için normal dağılıma sahip olması beklenir. Aralarındaki ilişki de doğrusal olmalıdır. Bu varsayımların bazıları sağlanmadığında farklı regresyon teknikleri uygulanabilir. \n",
        "\n",
        "\n",
        "* Tahmin etmek istediğiniz bağımlı değişkeni öngören birden fazla da bağımsız değişkeniniz olabilir. Burada doğrusal denklemin katsayıları tahmin edilerek analiz gerçekleştirirsiniz. \n",
        "\n",
        "* Tahminleme yaparken bir maliyet fonksiyonu tanımlanır ve bunu minimize ederek en iyi tahminleme yapılmaya çalışılır. Aşağıdaki temsili grafikten de anlayacağınız gibi maliyet fonksiyonu minimize edilirken doğrusal regresyon veri dağılımına fit eder.\n",
        "\n",
        "![doğrusal regresyon](https://miro.medium.com/max/2400/1*AsfV2NelG1Ta5F-0kr727w.gif)\n",
        "\n",
        "---\n",
        "\n",
        "### Bu çalışmada da tam olarak böyle bir örneği adım adım gerçekleştireceğiz.\n",
        "\n",
        "**Çalışma için seçtiğimiz veri ve problem:** Doğrusal regresyon örneklemesinde çok kullanılan bir veri kümesini kullanacağız. Gıda taşımacılığı yapan bir kamyonun kâr kestirimini yapmaya çalışacağız. \n",
        "\n",
        "* İki sütundan oluşan bir veri kümemiz var ve ilk sütun şehirlerin popülasyonu hakkında bilgileri barındırırken ikinci sütun kamyonun kâr bilgisini barındırmaktadır. Bağımlı değişkenimiz bu kâr bilgisi olacak yani bunu doğrusal regresyonla bulmak istiyoruz. \n",
        "\n",
        "<h4 align=center> Hadi başlayalım!!!\n",
        "\n",
        "![](https://media.giphy.com/media/liouol4vPRdDO/giphy.gif) </h4>\n",
        "\n",
        "\n",
        "\n",
        "\n"
      ]
    },
    {
      "cell_type": "markdown",
      "metadata": {
        "id": "ncaD7K_wc0aX",
        "colab_type": "text"
      },
      "source": [
        "### Google Colab Kimlik Doğrulama İşlemleri \n",
        "\n",
        "Bu çalışma için GPU seçimi yapmanıza gerek yoktur. Ancak Drivedaki dosyalarınıza erişmeniz gerekir."
      ]
    },
    {
      "cell_type": "code",
      "metadata": {
        "id": "BHzR0RB7Aqgl",
        "colab_type": "code",
        "colab": {
          "base_uri": "https://localhost:8080/",
          "height": 124
        },
        "outputId": "16559492-ac07-44a2-a8d4-95af7cd2d04f"
      },
      "source": [
        "#GPU kullanmak için kimlik doğrulama işlemi\n",
        "from google.colab import drive\n",
        "drive.mount('/gdrive')\n",
        "#%cd /gdrive"
      ],
      "execution_count": 1,
      "outputs": [
        {
          "output_type": "stream",
          "text": [
            "Go to this URL in a browser: https://accounts.google.com/o/oauth2/auth?client_id=947318989803-6bn6qk8qdgf4n4g3pfee6491hc0brc4i.apps.googleusercontent.com&redirect_uri=urn%3aietf%3awg%3aoauth%3a2.0%3aoob&response_type=code&scope=email%20https%3a%2f%2fwww.googleapis.com%2fauth%2fdocs.test%20https%3a%2f%2fwww.googleapis.com%2fauth%2fdrive%20https%3a%2f%2fwww.googleapis.com%2fauth%2fdrive.photos.readonly%20https%3a%2f%2fwww.googleapis.com%2fauth%2fpeopleapi.readonly\n",
            "\n",
            "Enter your authorization code:\n",
            "··········\n",
            "Mounted at /gdrive\n"
          ],
          "name": "stdout"
        }
      ]
    },
    {
      "cell_type": "code",
      "metadata": {
        "id": "Qnd8C6VugKpg",
        "colab_type": "code",
        "colab": {
          "base_uri": "https://localhost:8080/",
          "height": 35
        },
        "outputId": "04d9840e-c68c-40a5-c106-c714de958420"
      },
      "source": [
        "!pwd"
      ],
      "execution_count": 5,
      "outputs": [
        {
          "output_type": "stream",
          "text": [
            "/content\n"
          ],
          "name": "stdout"
        }
      ]
    },
    {
      "cell_type": "code",
      "metadata": {
        "id": "7b3O9oYbgFju",
        "colab_type": "code",
        "colab": {
          "base_uri": "https://localhost:8080/",
          "height": 35
        },
        "outputId": "f620249e-bc20-46cd-9dfc-0f4d7442bcda"
      },
      "source": [
        "!ls"
      ],
      "execution_count": 4,
      "outputs": [
        {
          "output_type": "stream",
          "text": [
            "sample_data\n"
          ],
          "name": "stdout"
        }
      ]
    },
    {
      "cell_type": "code",
      "metadata": {
        "id": "42cAy565AzWV",
        "colab_type": "code",
        "colab": {
          "base_uri": "https://localhost:8080/",
          "height": 69
        },
        "outputId": "3f54b276-7845-41a5-b9e8-55101853cefc"
      },
      "source": [
        "!ls \"/gdrive/My Drive/DogrusalRegresyon/\""
      ],
      "execution_count": 6,
      "outputs": [
        {
          "output_type": "stream",
          "text": [
            "'Doğrusal Regresyon Çalışma Dosyası.ipynb adlı dosyanın kopyası'\n",
            " gida_kamyon_verisi.txt\n",
            "'Original of Doğrusal Regresyon Çalışma Dosyası.ipynb adlı dosyanın kopyası'\n"
          ],
          "name": "stdout"
        }
      ]
    },
    {
      "cell_type": "code",
      "metadata": {
        "id": "CX_JWrfKAHDD",
        "colab_type": "code",
        "colab": {}
      },
      "source": [
        "import os\n",
        "os.chdir(\"/gdrive/My Drive/DogrusalRegresyon/\")"
      ],
      "execution_count": 7,
      "outputs": []
    },
    {
      "cell_type": "code",
      "metadata": {
        "id": "WJq8O9N7xKOJ",
        "colab_type": "code",
        "colab": {
          "base_uri": "https://localhost:8080/",
          "height": 35
        },
        "outputId": "6672dfde-b4e8-48fa-cff4-c709b603b001"
      },
      "source": [
        "!pwd"
      ],
      "execution_count": 8,
      "outputs": [
        {
          "output_type": "stream",
          "text": [
            "/gdrive/My Drive/DogrusalRegresyon\n"
          ],
          "name": "stdout"
        }
      ]
    },
    {
      "cell_type": "code",
      "metadata": {
        "id": "U3VNFcnpgSep",
        "colab_type": "code",
        "colab": {
          "base_uri": "https://localhost:8080/",
          "height": 69
        },
        "outputId": "e33a1c62-fb91-448a-81b8-8b75b4b69a76"
      },
      "source": [
        "!ls"
      ],
      "execution_count": 9,
      "outputs": [
        {
          "output_type": "stream",
          "text": [
            "'Doğrusal Regresyon Çalışma Dosyası.ipynb adlı dosyanın kopyası'\n",
            " gida_kamyon_verisi.txt\n",
            "'Original of Doğrusal Regresyon Çalışma Dosyası.ipynb adlı dosyanın kopyası'\n"
          ],
          "name": "stdout"
        }
      ]
    },
    {
      "cell_type": "markdown",
      "metadata": {
        "id": "IRbEnKyBAdWU",
        "colab_type": "text"
      },
      "source": [
        "### 1.Adım: Verileri ve Kütüphaneleri Yüklemek\n",
        "---"
      ]
    },
    {
      "cell_type": "code",
      "metadata": {
        "id": "dy9ANvKcAdWU",
        "colab_type": "code",
        "colab": {}
      },
      "source": [
        "import matplotlib.pyplot as plt \n",
        "plt.style.use('ggplot')\n",
        "%matplotlib inline"
      ],
      "execution_count": 10,
      "outputs": []
    },
    {
      "cell_type": "code",
      "metadata": {
        "id": "ex9-l-xqAdWY",
        "colab_type": "code",
        "colab": {
          "base_uri": "https://localhost:8080/",
          "height": 72
        },
        "outputId": "b87847de-9109-4028-9310-f52559bda897"
      },
      "source": [
        "import numpy as np\n",
        "import pandas as pd  \n",
        "import seaborn as sns \n",
        "plt.rcParams['figure.figsize'] = (10, 6)"
      ],
      "execution_count": 11,
      "outputs": [
        {
          "output_type": "stream",
          "text": [
            "/usr/local/lib/python3.6/dist-packages/statsmodels/tools/_testing.py:19: FutureWarning: pandas.util.testing is deprecated. Use the functions in the public API at pandas.testing instead.\n",
            "  import pandas.util.testing as tm\n"
          ],
          "name": "stderr"
        }
      ]
    },
    {
      "cell_type": "code",
      "metadata": {
        "id": "85n7K6GxAdWa",
        "colab_type": "code",
        "colab": {
          "base_uri": "https://localhost:8080/",
          "height": 355
        },
        "outputId": "ddd4583b-6260-4126-a5f2-a57f96ad8b00"
      },
      "source": [
        "data = pd.read_csv(\"gida_kamyon_verisi.txt\")\n",
        "data.head(10)"
      ],
      "execution_count": 12,
      "outputs": [
        {
          "output_type": "execute_result",
          "data": {
            "text/html": [
              "<div>\n",
              "<style scoped>\n",
              "    .dataframe tbody tr th:only-of-type {\n",
              "        vertical-align: middle;\n",
              "    }\n",
              "\n",
              "    .dataframe tbody tr th {\n",
              "        vertical-align: top;\n",
              "    }\n",
              "\n",
              "    .dataframe thead th {\n",
              "        text-align: right;\n",
              "    }\n",
              "</style>\n",
              "<table border=\"1\" class=\"dataframe\">\n",
              "  <thead>\n",
              "    <tr style=\"text-align: right;\">\n",
              "      <th></th>\n",
              "      <th>Populasyon</th>\n",
              "      <th>Kâr</th>\n",
              "    </tr>\n",
              "  </thead>\n",
              "  <tbody>\n",
              "    <tr>\n",
              "      <th>0</th>\n",
              "      <td>6.1101</td>\n",
              "      <td>17.5920</td>\n",
              "    </tr>\n",
              "    <tr>\n",
              "      <th>1</th>\n",
              "      <td>5.5277</td>\n",
              "      <td>9.1302</td>\n",
              "    </tr>\n",
              "    <tr>\n",
              "      <th>2</th>\n",
              "      <td>8.5186</td>\n",
              "      <td>13.6620</td>\n",
              "    </tr>\n",
              "    <tr>\n",
              "      <th>3</th>\n",
              "      <td>7.0032</td>\n",
              "      <td>11.8540</td>\n",
              "    </tr>\n",
              "    <tr>\n",
              "      <th>4</th>\n",
              "      <td>5.8598</td>\n",
              "      <td>6.8233</td>\n",
              "    </tr>\n",
              "    <tr>\n",
              "      <th>5</th>\n",
              "      <td>8.3829</td>\n",
              "      <td>11.8860</td>\n",
              "    </tr>\n",
              "    <tr>\n",
              "      <th>6</th>\n",
              "      <td>7.4764</td>\n",
              "      <td>4.3483</td>\n",
              "    </tr>\n",
              "    <tr>\n",
              "      <th>7</th>\n",
              "      <td>8.5781</td>\n",
              "      <td>12.0000</td>\n",
              "    </tr>\n",
              "    <tr>\n",
              "      <th>8</th>\n",
              "      <td>6.4862</td>\n",
              "      <td>6.5987</td>\n",
              "    </tr>\n",
              "    <tr>\n",
              "      <th>9</th>\n",
              "      <td>5.0546</td>\n",
              "      <td>3.8166</td>\n",
              "    </tr>\n",
              "  </tbody>\n",
              "</table>\n",
              "</div>"
            ],
            "text/plain": [
              "   Populasyon      Kâr\n",
              "0      6.1101  17.5920\n",
              "1      5.5277   9.1302\n",
              "2      8.5186  13.6620\n",
              "3      7.0032  11.8540\n",
              "4      5.8598   6.8233\n",
              "5      8.3829  11.8860\n",
              "6      7.4764   4.3483\n",
              "7      8.5781  12.0000\n",
              "8      6.4862   6.5987\n",
              "9      5.0546   3.8166"
            ]
          },
          "metadata": {
            "tags": []
          },
          "execution_count": 12
        }
      ]
    },
    {
      "cell_type": "code",
      "metadata": {
        "id": "wiIj6bjRAdWe",
        "colab_type": "code",
        "colab": {
          "base_uri": "https://localhost:8080/",
          "height": 173
        },
        "outputId": "217d82ee-b37e-4589-c68b-b023de63aae1"
      },
      "source": [
        "data.info()"
      ],
      "execution_count": 13,
      "outputs": [
        {
          "output_type": "stream",
          "text": [
            "<class 'pandas.core.frame.DataFrame'>\n",
            "RangeIndex: 97 entries, 0 to 96\n",
            "Data columns (total 2 columns):\n",
            " #   Column      Non-Null Count  Dtype  \n",
            "---  ------      --------------  -----  \n",
            " 0   Populasyon  97 non-null     float64\n",
            " 1   Kâr         97 non-null     float64\n",
            "dtypes: float64(2)\n",
            "memory usage: 1.6 KB\n"
          ],
          "name": "stdout"
        }
      ]
    },
    {
      "cell_type": "markdown",
      "metadata": {
        "id": "kelYbCplAdWi",
        "colab_type": "text"
      },
      "source": [
        "### 2.Adım: Verileri Görselleştirme\n",
        "---\n",
        "\n",
        "Bu örnekte gördüğümüz verilerin noktalar halinde görselini çizdiriyoruz. Her bir nokta bir boyutlu özniteliklerdir. \n"
      ]
    },
    {
      "cell_type": "code",
      "metadata": {
        "id": "ryZRBWisAdWi",
        "colab_type": "code",
        "colab": {
          "base_uri": "https://localhost:8080/",
          "height": 409
        },
        "outputId": "8e6567e7-9735-48ec-bc8d-801495535cea"
      },
      "source": [
        "ax = sns.scatterplot(x='Populasyon', y='Kâr', color='magenta', data=data)\n",
        "ax.set_title(\"$10000 için Kâr ve 10000 için Şehir Popülasyonu Dağılımı\");"
      ],
      "execution_count": 14,
      "outputs": [
        {
          "output_type": "display_data",
          "data": {
            "image/png": "[encoded data removed]",
            "text/plain": [
              "<Figure size 720x432 with 1 Axes>"
            ]
          },
          "metadata": {
            "tags": [],
            "needs_background": "light"
          }
        }
      ]
    },
    {
      "cell_type": "markdown",
      "metadata": {
        "id": "yWAJJFadAdWl",
        "colab_type": "text"
      },
      "source": [
        "### 3.Adım: Maliyet Fonksiyonunun Hesaplanması $J(\\theta)$\n",
        "---"
      ]
    },
    {
      "cell_type": "markdown",
      "metadata": {
        "id": "0bXeZsM1AdWm",
        "colab_type": "text"
      },
      "source": [
        "\n",
        "\n",
        "Doğrusal regresyonun amacı, $h_{\\theta}(x)$ hipotezi için doğrusal model tarafından verilen maliyet fonksiyonunu minimize etmektir.\n",
        "\n",
        "$$h_{\\theta}(x) = \\theta^Tx = \\theta_0 + \\theta_1x_1$$\n",
        "\n",
        "$$J(\\theta) = \\frac{1}{2m} \\sum_{i=1}^m (h_\\theta(x^{(i)}) - y^{(i)} )^2$$\n",
        "\n",
        "\n"
      ]
    },
    {
      "cell_type": "code",
      "metadata": {
        "id": "Xf8_og1sAdWm",
        "colab_type": "code",
        "colab": {}
      },
      "source": [
        "def cost_function(X, y, theta):\n",
        "    m = len(y)\n",
        "    y_pred = X.dot(theta)\n",
        "    error = (y_pred - y) ** 2\n",
        "    \n",
        "    return 1 / (2 * m) * np.sum(error)"
      ],
      "execution_count": null,
      "outputs": []
    },
    {
      "cell_type": "code",
      "metadata": {
        "id": "LH2teLl-AdWp",
        "colab_type": "code",
        "colab": {
          "base_uri": "https://localhost:8080/",
          "height": 35
        },
        "outputId": "f6290ac6-2125-4135-9099-fad734779677"
      },
      "source": [
        "m = data.Populasyon.values.size\n",
        "# kesişim terimini tutmak için başka bir boyut ekleyin ve bunu tüm boyutlara ayarlayın\n",
        "X = np.append(np.ones((m, 1)), data.Populasyon.values.reshape(m, 1), axis=1)\n",
        "y = data.Kâr.values.reshape(m, 1)\n",
        "theta = np.zeros((2,1))\n",
        "\n",
        "cost_function(X, y, theta)"
      ],
      "execution_count": null,
      "outputs": [
        {
          "output_type": "execute_result",
          "data": {
            "text/plain": [
              "32.072733877455676"
            ]
          },
          "metadata": {
            "tags": []
          },
          "execution_count": 35
        }
      ]
    },
    {
      "cell_type": "markdown",
      "metadata": {
        "id": "jxd9CyHLAdWs",
        "colab_type": "text"
      },
      "source": [
        "### 4.Adım: Gradyan İniş Hesabı (Gradient Descent)\n",
        "---"
      ]
    },
    {
      "cell_type": "markdown",
      "metadata": {
        "id": "Gg4_IJlwAdWt",
        "colab_type": "text"
      },
      "source": [
        "\n",
        "Aşağıdaki denklemi güncelleyerek $J(\\theta)$ maliyet fonksiyonunu en aza indirin ve yakınsamaya kadar tekrarlayın.\n",
        "        \n",
        "$\\theta_j := \\theta_j - \\alpha \\frac{1}{m} \\sum_{i=1}^m (h_{\\theta}(x^{(i)}) - y^{(i)})x_j^{(i)}$ (eşzamanlı olarak tüm $j$ için $\\theta_j$'yi güncelleyin)."
      ]
    },
    {
      "cell_type": "code",
      "metadata": {
        "id": "ZekKt5ppAdWu",
        "colab_type": "code",
        "colab": {}
      },
      "source": [
        "def gradient_descent(X, y, theta, alpha, iterations): \n",
        "    m = len(y)\n",
        "    costs = []\n",
        "    for i in range(iterations):\n",
        "        y_pred = X.dot(theta)\n",
        "        error = np.dot(X.transpose(), (y_pred - y))\n",
        "        theta -= alpha * 1/m * error #model güncellemesi bu denklemle yapılır\n",
        "        costs.append(cost_function(X, y, theta))\n",
        "        \n",
        "    return theta, costs"
      ],
      "execution_count": null,
      "outputs": []
    },
    {
      "cell_type": "code",
      "metadata": {
        "id": "KtZfuaxWAdWw",
        "colab_type": "code",
        "colab": {
          "base_uri": "https://localhost:8080/",
          "height": 35
        },
        "outputId": "5509cafd-1d9b-4c7f-a76f-882452a041f9"
      },
      "source": [
        "theta, costs = gradient_descent(X, y, theta, alpha=0.01, iterations=10000)\n",
        "\n",
        "print(\"h(x) = {} + {}x1\".format(str(round(theta[0, 0], 2)),\n",
        "                                str(round(theta[1, 0], 2))))"
      ],
      "execution_count": null,
      "outputs": [
        {
          "output_type": "stream",
          "text": [
            "h(x) = -3.9 + 1.19x1\n"
          ],
          "name": "stdout"
        }
      ]
    },
    {
      "cell_type": "code",
      "metadata": {
        "id": "_0xlrLZVAdWz",
        "colab_type": "code",
        "colab": {
          "base_uri": "https://localhost:8080/",
          "height": 35
        },
        "outputId": "f6c59df7-74c5-4bfe-f551-c11166652033"
      },
      "source": [
        "costs[9999]"
      ],
      "execution_count": null,
      "outputs": [
        {
          "output_type": "execute_result",
          "data": {
            "text/plain": [
              "4.476971375975179"
            ]
          },
          "metadata": {
            "tags": []
          },
          "execution_count": 24
        }
      ]
    },
    {
      "cell_type": "markdown",
      "metadata": {
        "id": "X-zAO9l-AdW1",
        "colab_type": "text"
      },
      "source": [
        "### 5.Adım: Maliyet Fonksiyonunun Görselleştirilmesi $J(\\theta)$\n",
        "---"
      ]
    },
    {
      "cell_type": "code",
      "metadata": {
        "id": "PV0T_ZgeAdW2",
        "colab_type": "code",
        "colab": {}
      },
      "source": [
        "from mpl_toolkits.mplot3d import Axes3D"
      ],
      "execution_count": null,
      "outputs": []
    },
    {
      "cell_type": "code",
      "metadata": {
        "id": "4VXmiMGFAdW4",
        "colab_type": "code",
        "colab": {}
      },
      "source": [
        "theta_0 = np.linspace(-10,10,100)\n",
        "theta_1 = np.linspace(-1,4,100)\n",
        "\n",
        "cost_values = np.zeros((len(theta_0), len(theta_1)))\n",
        "\n",
        "for i in range(len(theta_0)):\n",
        "    for j in range(len(theta_1)):\n",
        "        t = np.array([theta_0[i], theta_1[j]])\n",
        "        cost_values[i, j] = cost_function(X, y, t)"
      ],
      "execution_count": null,
      "outputs": []
    },
    {
      "cell_type": "code",
      "metadata": {
        "id": "ZQ8bnXaqAdW6",
        "colab_type": "code",
        "colab": {
          "base_uri": "https://localhost:8080/",
          "height": 357
        },
        "outputId": "0acdcb64-7ae4-4e43-888e-5fe7cbc12bae"
      },
      "source": [
        "fig = plt.figure(figsize = (10, 6))\n",
        "ax = fig.gca(projection = '3d')\n",
        "\n",
        "surf = ax.plot_surface(theta_0, theta_1, cost_values, cmap = \"plasma\", linewidth = 0.2)\n",
        "fig.colorbar(surf, shrink=0.5, aspect=5)\n",
        "\n",
        "plt.xlabel(\"$\\Theta_0$\")\n",
        "plt.ylabel(\"$\\Theta_1$\")\n",
        "ax.set_zlabel(\"$J(\\Theta)$\")\n",
        "ax.set_title(\"Maliyet Gösterimi\")\n",
        "ax.view_init(30,330)\n",
        "\n",
        "plt.show()"
      ],
      "execution_count": null,
      "outputs": [
        {
          "output_type": "display_data",
          "data": {
            "image/png": "[encoded data removed]",
            "text/plain": [
              "<Figure size 720x432 with 2 Axes>"
            ]
          },
          "metadata": {
            "tags": [],
            "needs_background": "light"
          }
        }
      ]
    },
    {
      "cell_type": "markdown",
      "metadata": {
        "id": "2Xa25ucEAdW9",
        "colab_type": "text"
      },
      "source": [
        "### 6.Adım: Yakınsama Grafiğinin Oluşturulması\n",
        "---"
      ]
    },
    {
      "cell_type": "markdown",
      "metadata": {
        "id": "bqQ9OuENAdW9",
        "colab_type": "text"
      },
      "source": [
        "Gradyan iniş iterasyon sayısına karşı `-Maliyet Fonksiyonunu-` J (θ)'nin çizdirilmesi:"
      ]
    },
    {
      "cell_type": "code",
      "metadata": {
        "id": "gElBRxrUAdW-",
        "colab_type": "code",
        "colab": {
          "base_uri": "https://localhost:8080/",
          "height": 410
        },
        "outputId": "800681ee-5552-4910-dc2e-234c8eccd6dd"
      },
      "source": [
        "plt.plot(costs, 'm')\n",
        "plt.xlabel(\"Iterasyon\")\n",
        "plt.ylabel(\"$J(\\Theta)$\")\n",
        "plt.title(\"Gradyan İniş İterasyonlarınca Maliyet Fonksiyonunun Değerleri\");"
      ],
      "execution_count": null,
      "outputs": [
        {
          "output_type": "display_data",
          "data": {
            "image/png": "[encoded data removed]",
            "text/plain": [
              "<Figure size 720x432 with 1 Axes>"
            ]
          },
          "metadata": {
            "tags": [],
            "needs_background": "light"
          }
        }
      ]
    },
    {
      "cell_type": "markdown",
      "metadata": {
        "id": "-2z0kr6QAdXC",
        "colab_type": "text"
      },
      "source": [
        "### 7.Adım: Eğitim Verileri ile Doğrusal Regresyon\n",
        "---\n",
        "\n",
        "Doğrusal regresyon doğrusu tüm verilere en yakın optimal uzaklıktan geçecek şekilde öğrenilmiş olur."
      ]
    },
    {
      "cell_type": "code",
      "metadata": {
        "id": "ELk7JcUnAdXD",
        "colab_type": "code",
        "colab": {
          "base_uri": "https://localhost:8080/",
          "height": 35
        },
        "outputId": "40b426d5-a33f-49cc-bda5-1ecdca1c9447"
      },
      "source": [
        "theta.shape # thetanın boyutları"
      ],
      "execution_count": null,
      "outputs": [
        {
          "output_type": "execute_result",
          "data": {
            "text/plain": [
              "(2, 1)"
            ]
          },
          "metadata": {
            "tags": []
          },
          "execution_count": 29
        }
      ]
    },
    {
      "cell_type": "code",
      "metadata": {
        "id": "AUUkrtZBAdXI",
        "colab_type": "code",
        "colab": {
          "base_uri": "https://localhost:8080/",
          "height": 52
        },
        "outputId": "1b5d78f7-fd58-4055-fc58-932431c6b87d"
      },
      "source": [
        "theta #thetanın içeriği"
      ],
      "execution_count": null,
      "outputs": [
        {
          "output_type": "execute_result",
          "data": {
            "text/plain": [
              "array([[-3.89578087],\n",
              "       [ 1.19303364]])"
            ]
          },
          "metadata": {
            "tags": []
          },
          "execution_count": 30
        }
      ]
    },
    {
      "cell_type": "code",
      "metadata": {
        "id": "rryf8CtzAdXK",
        "colab_type": "code",
        "colab": {
          "base_uri": "https://localhost:8080/",
          "height": 408
        },
        "outputId": "1cffecc3-57f6-407a-9337-21fada2bc28a"
      },
      "source": [
        "theta = np.squeeze(theta)\n",
        "sns.scatterplot(x = \"Populasyon\", y= \"Kâr\", color='magenta', data = data)\n",
        "\n",
        "x_value=[x for x in range(5, 25)]\n",
        "y_value=[(x * theta[1] + theta[0]) for x in x_value]\n",
        "sns.lineplot(x_value,y_value, color=\"orange\")\n",
        "\n",
        "plt.xlabel(\"10000s için populasyon\")\n",
        "plt.ylabel(\"$10,000s için Kâr\")\n",
        "plt.title(\"Doğrusal Regresyon Uyumu (Fit Etmesi)\");"
      ],
      "execution_count": null,
      "outputs": [
        {
          "output_type": "display_data",
          "data": {
            "image/png": "[encoded data removed]",
            "text/plain": [
              "<Figure size 720x432 with 1 Axes>"
            ]
          },
          "metadata": {
            "tags": [],
            "needs_background": "light"
          }
        }
      ]
    },
    {
      "cell_type": "markdown",
      "metadata": {
        "id": "CuJz8_sIAdXN",
        "colab_type": "text"
      },
      "source": [
        "### 8.Adım: Optimize edilmiş $\\theta$ değerlerini kullanarak çıkarım\n",
        "---"
      ]
    },
    {
      "cell_type": "markdown",
      "metadata": {
        "id": "Q9zkinuzAdXN",
        "colab_type": "text"
      },
      "source": [
        "$h_\\theta(x) = \\theta^Tx$"
      ]
    },
    {
      "cell_type": "code",
      "metadata": {
        "id": "Iy5pfqDtAdXO",
        "colab_type": "code",
        "colab": {}
      },
      "source": [
        "def predict(x, theta):\n",
        "    y_pred = np.dot(theta.transpose(), x)\n",
        "    return y_pred"
      ],
      "execution_count": null,
      "outputs": []
    },
    {
      "cell_type": "markdown",
      "metadata": {
        "id": "RLOxnm8m1SOW",
        "colab_type": "text"
      },
      "source": [
        "Eğitilen modeli kestirim/tahmin yapmak için kullanalım.\n",
        "- 50000 populasyon için olası kar değeri \n",
        "- 23000 populasyon için olası kar değeri"
      ]
    },
    {
      "cell_type": "code",
      "metadata": {
        "id": "x9kunpcbAdXQ",
        "colab_type": "code",
        "colab": {
          "base_uri": "https://localhost:8080/",
          "height": 35
        },
        "outputId": "ed11cb6f-0a8b-41a3-d8a6-2875e5c1e691"
      },
      "source": [
        "y_pred_1 = predict(np.array([1, 5]),theta) * 10000\n",
        "print(\"50,000 kişilik bir nüfus için modelin ön gördüğü kar: $\" + str(round(y_pred_1, 0)))"
      ],
      "execution_count": null,
      "outputs": [
        {
          "output_type": "stream",
          "text": [
            "50,000 kişilik bir nüfus için modelin ön gördüğü kar: $23951.0\n"
          ],
          "name": "stdout"
        }
      ]
    },
    {
      "cell_type": "code",
      "metadata": {
        "id": "aZJ8e0a2AdXS",
        "colab_type": "code",
        "colab": {
          "base_uri": "https://localhost:8080/",
          "height": 35
        },
        "outputId": "c27a465e-6759-4126-9f72-a431ac6a7fad"
      },
      "source": [
        "y_pred_2 = predict(np.array([1, 2.3]), theta) * 10000\n",
        "print(\"23.000 kişilik bir nüfus için modelin ön gördüğü kar: $\" +str(round(y_pred_2, 0)))"
      ],
      "execution_count": null,
      "outputs": [
        {
          "output_type": "stream",
          "text": [
            "23.000 kişilik bir nüfus için modelin ön gördüğü kar: $-6486.0\n"
          ],
          "name": "stdout"
        }
      ]
    },
    {
      "cell_type": "markdown",
      "metadata": {
        "id": "OaHRO1TgcjGg",
        "colab_type": "text"
      },
      "source": [
        "### SONUÇ\n",
        "\n",
        "Bu çalışma için şehir populasyonuna bağlı olarak gıda taşıyıcısı kamyonun kâr durumunun tahminlemesi üzerine doğrusal bir regresyon örneğini deneyimlemiş olduk. Bunu yaparken Python programlama dilini ve Numpy kütüphanesinden faydalandık. \n",
        "\n",
        "Doğrusal regresyon anlaşılabilirliği, daha karmaşık olan sinir ağları veya parametre ayarlaması gerektiren makine öğrenmesi yaklaşımlarına göre matematiksel olarak basit olması ve hızı bakımından çok tercih edilir. \n",
        "\n",
        "![done](https://media.giphy.com/media/SfYTJuxdAbsVW/giphy.gif)\n",
        "\n",
        "---\n",
        "\n",
        "### KAYNAKLAR:\n",
        "\n",
        "*   [Coursera Course: Machine Learning by Andrew Ng](https://www.coursera.org/learn/machine-learning)\n",
        "*   [Coursera Course: Linear Regression with NumPy and Python](https://www.coursera.org/projects/linear-regression-numpy-python)\n",
        "*   [Predict Profit for food truck](https://github.com/girishkuniyal/Predict-Profit-for-food-truck)\n",
        "*   [Linear Regression — Detailed View](https://towardsdatascience.com/linear-regression-detailed-view-ea73175f6e86)"
      ]
    }
  ]
}